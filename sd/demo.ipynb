{
 "cells": [
  {
   "cell_type": "code",
   "execution_count": 5,
   "metadata": {},
   "outputs": [
    {
     "name": "stdout",
     "output_type": "stream",
     "text": [
      "Using device: cpu\n"
     ]
    },
    {
     "ename": "TypeError",
     "evalue": "descriptor '__init__' of 'super' object needs an argument",
     "output_type": "error",
     "traceback": [
      "\u001b[1;31m---------------------------------------------------------------------------\u001b[0m",
      "\u001b[1;31mTypeError\u001b[0m                                 Traceback (most recent call last)",
      "Cell \u001b[1;32mIn[5], line 21\u001b[0m\n\u001b[0;32m     19\u001b[0m tokenizer \u001b[38;5;241m=\u001b[39m CLIPTokenizer(\u001b[38;5;124m\"\u001b[39m\u001b[38;5;124m../data/vocab.json\u001b[39m\u001b[38;5;124m\"\u001b[39m, merges_file\u001b[38;5;241m=\u001b[39m\u001b[38;5;124m\"\u001b[39m\u001b[38;5;124m../data/merges.txt\u001b[39m\u001b[38;5;124m\"\u001b[39m)\n\u001b[0;32m     20\u001b[0m model_file \u001b[38;5;241m=\u001b[39m \u001b[38;5;124m\"\u001b[39m\u001b[38;5;124m../data/v1-5-pruned-emaonly.ckpt\u001b[39m\u001b[38;5;124m\"\u001b[39m\n\u001b[1;32m---> 21\u001b[0m models \u001b[38;5;241m=\u001b[39m \u001b[43mmodel_loader\u001b[49m\u001b[38;5;241;43m.\u001b[39;49m\u001b[43mpreload_models_from_standard_weights\u001b[49m\u001b[43m(\u001b[49m\u001b[43mmodel_file\u001b[49m\u001b[43m,\u001b[49m\u001b[43m \u001b[49m\u001b[43mDEVICE\u001b[49m\u001b[43m)\u001b[49m\n\u001b[0;32m     23\u001b[0m \u001b[38;5;66;03m## TEXT TO IMAGE\u001b[39;00m\n\u001b[0;32m     24\u001b[0m \n\u001b[0;32m     25\u001b[0m \u001b[38;5;66;03m# prompt = \"A dog with sunglasses, wearing comfy hat, looking at camera, highly detailed, ultra sharp, cinematic, 100mm lens, 8k resolution.\"\u001b[39;00m\n\u001b[0;32m     26\u001b[0m prompt \u001b[38;5;241m=\u001b[39m \u001b[38;5;124m\"\u001b[39m\u001b[38;5;124mA cat stretching on the floor, highly detailed, ultra sharp, cinematic, 100mm lens, 8k resolution.\u001b[39m\u001b[38;5;124m\"\u001b[39m\n",
      "File \u001b[1;32md:\\Minh.data\\AI\\ZenAI\\StableDiffusion\\sd\\model_loader.py:11\u001b[0m, in \u001b[0;36mpreload_models_from_standard_weights\u001b[1;34m(ckpt_path, device)\u001b[0m\n\u001b[0;32m      8\u001b[0m \u001b[38;5;28;01mdef\u001b[39;00m \u001b[38;5;21mpreload_models_from_standard_weights\u001b[39m(ckpt_path, device):\n\u001b[0;32m      9\u001b[0m     state_dict \u001b[38;5;241m=\u001b[39m model_converter\u001b[38;5;241m.\u001b[39mload_from_standard_weights(ckpt_path, device)\n\u001b[1;32m---> 11\u001b[0m     encoder \u001b[38;5;241m=\u001b[39m \u001b[43mVAE_Encoder\u001b[49m\u001b[43m(\u001b[49m\u001b[43m)\u001b[49m\u001b[38;5;241m.\u001b[39mto(device)\n\u001b[0;32m     12\u001b[0m     encoder\u001b[38;5;241m.\u001b[39mload_state_dict(state_dict[\u001b[38;5;124m'\u001b[39m\u001b[38;5;124mencoder\u001b[39m\u001b[38;5;124m'\u001b[39m], strict\u001b[38;5;241m=\u001b[39m\u001b[38;5;28;01mTrue\u001b[39;00m)\n\u001b[0;32m     14\u001b[0m     decoder \u001b[38;5;241m=\u001b[39m VAE_Decoder()\u001b[38;5;241m.\u001b[39mto(device)\n",
      "File \u001b[1;32md:\\Minh.data\\AI\\ZenAI\\StableDiffusion\\sd\\encoder.py:12\u001b[0m, in \u001b[0;36mVAE_Encoder.__init__\u001b[1;34m(self)\u001b[0m\n\u001b[0;32m      7\u001b[0m \u001b[38;5;28;01mdef\u001b[39;00m \u001b[38;5;21m__init__\u001b[39m(\u001b[38;5;28mself\u001b[39m):\n\u001b[0;32m      8\u001b[0m     \u001b[38;5;28msuper\u001b[39m()\u001b[38;5;241m.\u001b[39m\u001b[38;5;21m__init__\u001b[39m(\n\u001b[0;32m      9\u001b[0m         \u001b[38;5;66;03m#(bs,c,h,w) -> (bs,128,h,w)\u001b[39;00m\n\u001b[0;32m     10\u001b[0m         nn\u001b[38;5;241m.\u001b[39mConv2d(\u001b[38;5;241m3\u001b[39m,\u001b[38;5;241m128\u001b[39m, kernel_size\u001b[38;5;241m=\u001b[39m \u001b[38;5;241m3\u001b[39m, padding\u001b[38;5;241m=\u001b[39m \u001b[38;5;241m1\u001b[39m),\n\u001b[0;32m     11\u001b[0m         \u001b[38;5;66;03m#(bs,128,h,w) -> (bs,128,h,w)\u001b[39;00m\n\u001b[1;32m---> 12\u001b[0m         \u001b[43mVAE_ResidualBlock\u001b[49m\u001b[43m(\u001b[49m\u001b[38;5;241;43m128\u001b[39;49m\u001b[43m,\u001b[49m\u001b[38;5;241;43m128\u001b[39;49m\u001b[43m)\u001b[49m,\n\u001b[0;32m     13\u001b[0m         VAE_ResidualBlock(\u001b[38;5;241m128\u001b[39m,\u001b[38;5;241m128\u001b[39m),\n\u001b[0;32m     14\u001b[0m         \u001b[38;5;66;03m#(bs,128,h,w) -> (bs,128,h/2,w/2)\u001b[39;00m\n\u001b[0;32m     15\u001b[0m         nn\u001b[38;5;241m.\u001b[39mConv2d(\u001b[38;5;241m128\u001b[39m,\u001b[38;5;241m128\u001b[39m, kernel_size\u001b[38;5;241m=\u001b[39m \u001b[38;5;241m3\u001b[39m,stride\u001b[38;5;241m=\u001b[39m\u001b[38;5;241m2\u001b[39m, padding\u001b[38;5;241m=\u001b[39m \u001b[38;5;241m0\u001b[39m),\n\u001b[0;32m     16\u001b[0m         VAE_ResidualBlock(\u001b[38;5;241m128\u001b[39m,\u001b[38;5;241m256\u001b[39m),\n\u001b[0;32m     17\u001b[0m         \u001b[38;5;66;03m#(bs,256,h/2,w/2)\u001b[39;00m\n\u001b[0;32m     18\u001b[0m         VAE_ResidualBlock(\u001b[38;5;241m256\u001b[39m,\u001b[38;5;241m256\u001b[39m),\n\u001b[0;32m     19\u001b[0m         nn\u001b[38;5;241m.\u001b[39mConv2d(\u001b[38;5;241m256\u001b[39m,\u001b[38;5;241m256\u001b[39m, kernel_size\u001b[38;5;241m=\u001b[39m \u001b[38;5;241m3\u001b[39m,stride\u001b[38;5;241m=\u001b[39m\u001b[38;5;241m2\u001b[39m, padding\u001b[38;5;241m=\u001b[39m \u001b[38;5;241m0\u001b[39m),    \u001b[38;5;66;03m#(bs,256,h/4,w/4)\u001b[39;00m\n\u001b[0;32m     20\u001b[0m         VAE_ResidualBlock(\u001b[38;5;241m256\u001b[39m,\u001b[38;5;241m512\u001b[39m),\n\u001b[0;32m     21\u001b[0m         VAE_ResidualBlock(\u001b[38;5;241m512\u001b[39m,\u001b[38;5;241m512\u001b[39m),\n\u001b[0;32m     22\u001b[0m \n\u001b[0;32m     23\u001b[0m         nn\u001b[38;5;241m.\u001b[39mConv2d(\u001b[38;5;241m256\u001b[39m,\u001b[38;5;241m256\u001b[39m, kernel_size\u001b[38;5;241m=\u001b[39m \u001b[38;5;241m3\u001b[39m,stride\u001b[38;5;241m=\u001b[39m\u001b[38;5;241m2\u001b[39m, padding\u001b[38;5;241m=\u001b[39m \u001b[38;5;241m0\u001b[39m),    \u001b[38;5;66;03m#(bs,256,h/8,w/8)\u001b[39;00m\n\u001b[0;32m     24\u001b[0m \n\u001b[0;32m     25\u001b[0m         VAE_ResidualBlock(\u001b[38;5;241m512\u001b[39m,\u001b[38;5;241m512\u001b[39m),\n\u001b[0;32m     26\u001b[0m         VAE_ResidualBlock(\u001b[38;5;241m512\u001b[39m,\u001b[38;5;241m512\u001b[39m),\n\u001b[0;32m     27\u001b[0m         VAE_ResidualBlock(\u001b[38;5;241m512\u001b[39m,\u001b[38;5;241m512\u001b[39m),\n\u001b[0;32m     28\u001b[0m \n\u001b[0;32m     29\u001b[0m         VAE_AttentionBLock(\u001b[38;5;241m512\u001b[39m),\n\u001b[0;32m     30\u001b[0m \n\u001b[0;32m     31\u001b[0m         VAE_ResidualBlock(\u001b[38;5;241m512\u001b[39m,\u001b[38;5;241m512\u001b[39m),\n\u001b[0;32m     32\u001b[0m         \n\u001b[0;32m     33\u001b[0m         nn\u001b[38;5;241m.\u001b[39mGroupNorm(\u001b[38;5;241m32\u001b[39m,\u001b[38;5;241m512\u001b[39m), \u001b[38;5;66;03m#(bs,512,h/8,w/8)  num_group = 32\u001b[39;00m\n\u001b[0;32m     34\u001b[0m         nn\u001b[38;5;241m.\u001b[39mSiLU(),\n\u001b[0;32m     35\u001b[0m         \n\u001b[0;32m     36\u001b[0m         nn\u001b[38;5;241m.\u001b[39mConv2d(\u001b[38;5;241m512\u001b[39m,\u001b[38;5;241m8\u001b[39m, kernel_size\u001b[38;5;241m=\u001b[39m \u001b[38;5;241m3\u001b[39m, padding\u001b[38;5;241m=\u001b[39m \u001b[38;5;241m1\u001b[39m),\n\u001b[0;32m     37\u001b[0m         nn\u001b[38;5;241m.\u001b[39mConv2d(\u001b[38;5;241m8\u001b[39m,\u001b[38;5;241m8\u001b[39m, kernel_size\u001b[38;5;241m=\u001b[39m \u001b[38;5;241m3\u001b[39m, padding\u001b[38;5;241m=\u001b[39m \u001b[38;5;241m0\u001b[39m),    \u001b[38;5;66;03m#(bs,8,h/8,w/8)\u001b[39;00m\n\u001b[0;32m     38\u001b[0m     )\n",
      "File \u001b[1;32md:\\Minh.data\\AI\\ZenAI\\StableDiffusion\\sd\\decodeder.py:10\u001b[0m, in \u001b[0;36mVAE_ResidualBlock.__init__\u001b[1;34m(self, in_c, out_c)\u001b[0m\n\u001b[0;32m      9\u001b[0m \u001b[38;5;28;01mdef\u001b[39;00m \u001b[38;5;21m__init__\u001b[39m(\u001b[38;5;28mself\u001b[39m, in_c, out_c):\n\u001b[1;32m---> 10\u001b[0m     \u001b[38;5;28;43msuper\u001b[39;49m\u001b[38;5;241;43m.\u001b[39;49m\u001b[38;5;21;43m__init__\u001b[39;49m\u001b[43m(\u001b[49m\u001b[43m)\u001b[49m\n\u001b[0;32m     11\u001b[0m     \u001b[38;5;28mself\u001b[39m\u001b[38;5;241m.\u001b[39mgroupnorm_1 \u001b[38;5;241m=\u001b[39m nn\u001b[38;5;241m.\u001b[39mGroupNorm(\u001b[38;5;241m32\u001b[39m, in_c)\n\u001b[0;32m     12\u001b[0m     \u001b[38;5;28mself\u001b[39m\u001b[38;5;241m.\u001b[39mconv_1 \u001b[38;5;241m=\u001b[39m nn\u001b[38;5;241m.\u001b[39mConv2d(in_c, out_c, kernel_size\u001b[38;5;241m=\u001b[39m \u001b[38;5;241m3\u001b[39m, padding\u001b[38;5;241m=\u001b[39m \u001b[38;5;241m1\u001b[39m)\n",
      "\u001b[1;31mTypeError\u001b[0m: descriptor '__init__' of 'super' object needs an argument"
     ]
    }
   ],
   "source": [
    "import model_loader\n",
    "import pipeline\n",
    "from PIL import Image\n",
    "from pathlib import Path\n",
    "from transformers import CLIPTokenizer\n",
    "import torch\n",
    "\n",
    "DEVICE = \"cpu\"\n",
    "\n",
    "ALLOW_CUDA = False\n",
    "ALLOW_MPS = False\n",
    "\n",
    "if torch.cuda.is_available() and ALLOW_CUDA:\n",
    "    DEVICE = \"cuda\"\n",
    "elif (torch.has_mps or torch.backends.mps.is_available()) and ALLOW_MPS:\n",
    "    DEVICE = \"mps\"\n",
    "print(f\"Using device: {DEVICE}\")\n",
    "\n",
    "tokenizer = CLIPTokenizer(\"../data/vocab.json\", merges_file=\"../data/merges.txt\")\n",
    "model_file = \"../data/v1-5-pruned-emaonly.ckpt\"\n",
    "models = model_loader.preload_models_from_standard_weights(model_file, DEVICE)\n",
    "\n",
    "## TEXT TO IMAGE\n",
    "\n",
    "# prompt = \"A dog with sunglasses, wearing comfy hat, looking at camera, highly detailed, ultra sharp, cinematic, 100mm lens, 8k resolution.\"\n",
    "prompt = \"A cat stretching on the floor, highly detailed, ultra sharp, cinematic, 100mm lens, 8k resolution.\"\n",
    "uncond_prompt = \"\"  # Also known as negative prompt\n",
    "do_cfg = True\n",
    "cfg_scale = 8  # min: 1, max: 14\n",
    "\n",
    "## IMAGE TO IMAGE\n",
    "\n",
    "input_image = None\n",
    "# Comment to disable image to image\n",
    "image_path = \"../images/dog.jpg\"\n",
    "# input_image = Image.open(image_path)\n",
    "# Higher values means more noise will be added to the input image, so the result will further from the input image.\n",
    "# Lower values means less noise is added to the input image, so output will be closer to the input image.\n",
    "strength = 0.9\n",
    "\n",
    "## SAMPLER\n",
    "\n",
    "sampler = \"ddpm\"\n",
    "num_inference_steps = 50\n",
    "seed = 42\n",
    "\n",
    "output_image = pipeline.generate(\n",
    "    prompt=prompt,\n",
    "    uncond_prompt=uncond_prompt,\n",
    "    input_image=input_image,\n",
    "    strength=strength,\n",
    "    do_cfg=do_cfg,\n",
    "    cfg_scale=cfg_scale,\n",
    "    sampler_name=sampler,\n",
    "    n_inference_steps=num_inference_steps,\n",
    "    seed=seed,\n",
    "    models=models,\n",
    "    device=DEVICE,\n",
    "    idle_device=\"cpu\",\n",
    "    tokenizer=tokenizer,\n",
    ")\n",
    "\n",
    "# Combine the input image and the output image into a single image.\n",
    "Image.fromarray(output_image)"
   ]
  }
 ],
 "metadata": {
  "kernelspec": {
   "display_name": "Python 3",
   "language": "python",
   "name": "python3"
  },
  "language_info": {
   "codemirror_mode": {
    "name": "ipython",
    "version": 3
   },
   "file_extension": ".py",
   "mimetype": "text/x-python",
   "name": "python",
   "nbconvert_exporter": "python",
   "pygments_lexer": "ipython3",
   "version": "3.10.10"
  }
 },
 "nbformat": 4,
 "nbformat_minor": 2
}
